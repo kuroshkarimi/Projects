{
 "cells": [
  {
   "cell_type": "markdown",
   "id": "ca659659-dbc2-4394-b689-c81794d1a503",
   "metadata": {},
   "source": [
    "**This project belongs to \"IBM Data Analytics Professional Course\" on Coursera**"
   ]
  },
  {
   "cell_type": "markdown",
   "id": "47813c80-6c17-4e3e-b61c-bd1abd7bc2f9",
   "metadata": {},
   "source": [
    "**We have a job API deposited at:**"
   ]
  },
  {
   "cell_type": "code",
   "execution_count": 1,
   "id": "d220e631-8382-4ee5-b2d2-eae54aef5a07",
   "metadata": {},
   "outputs": [],
   "source": [
    "url = \"https://cf-courses-data.s3.us.cloud-object-storage.appdomain.cloud/IBM-DA0321EN-SkillsNetwork/labs/module%201/Accessing%20Data%20Using%20APIs/jobs.json\""
   ]
  },
  {
   "cell_type": "markdown",
   "id": "8507d8d6-afac-4f08-983b-59fa23f3d3b6",
   "metadata": {},
   "source": [
    "**Task: Determine the number of jobs currently open for various technologies and for various locations in the US. Then save the result into an Excel file.**"
   ]
  },
  {
   "cell_type": "code",
   "execution_count": 2,
   "id": "0c0fa80e-ba32-4020-ac32-8a8dccd55dfb",
   "metadata": {},
   "outputs": [
    {
     "name": "stdout",
     "output_type": "stream",
     "text": [
      "Requirement already satisfied: openpyxl in c:\\users\\kurosh karimi\\appdata\\local\\programs\\python\\python312\\lib\\site-packages (3.1.5)\n",
      "Requirement already satisfied: et-xmlfile in c:\\users\\kurosh karimi\\appdata\\local\\programs\\python\\python312\\lib\\site-packages (from openpyxl) (1.1.0)\n"
     ]
    },
    {
     "name": "stderr",
     "output_type": "stream",
     "text": [
      "\n",
      "[notice] A new release of pip is available: 24.0 -> 24.2\n",
      "[notice] To update, run: python.exe -m pip install --upgrade pip\n"
     ]
    }
   ],
   "source": [
    "!pip install openpyxl"
   ]
  },
  {
   "cell_type": "code",
   "execution_count": 3,
   "id": "fdac8bf4-ab82-4ff5-a7ae-7671386430c3",
   "metadata": {},
   "outputs": [],
   "source": [
    "import requests\n",
    "import json\n",
    "from openpyxl import Workbook"
   ]
  },
  {
   "cell_type": "code",
   "execution_count": 4,
   "id": "ae67f5ec-0102-474d-9dd2-ed415ee54705",
   "metadata": {},
   "outputs": [
    {
     "name": "stdout",
     "output_type": "stream",
     "text": [
      "{'Date': 'Sun, 04 Aug 2024 18:53:47 GMT', 'X-Clv-Request-Id': '4cf1df48-f1ec-455a-ab28-115f68961359', 'Server': 'Cleversafe', 'X-Clv-S3-Version': '2.5', 'Accept-Ranges': 'bytes', 'x-amz-request-id': '4cf1df48-f1ec-455a-ab28-115f68961359', 'x-amz-mp-parts-count': '2', 'Cache-Control': 'max-age=0,public', 'ETag': '\"444164853f0b0dc867ee9cbec13ef254-2\"', 'Content-Type': 'application/json', 'Last-Modified': 'Tue, 28 Jun 2022 07:55:52 GMT', 'Content-Length': '12878382'}\n"
     ]
    }
   ],
   "source": [
    "response = requests.get(url)\n",
    "headers = response.headers\n",
    "print(headers)"
   ]
  },
  {
   "cell_type": "code",
   "execution_count": 5,
   "id": "a97d3527-7e4b-4f74-9677-9ff7a516b04c",
   "metadata": {},
   "outputs": [
    {
     "data": {
      "text/plain": [
       "dict_keys(['Id', 'Job Title', 'Job Experience Required', 'Key Skills', 'Role Category', 'Location', 'Functional Area', 'Industry', 'Role'])"
      ]
     },
     "execution_count": 5,
     "metadata": {},
     "output_type": "execute_result"
    }
   ],
   "source": [
    "r=requests.get(url)\n",
    "dATA=r.json()\n",
    "keys = dATA[0].keys()\n",
    "keys"
   ]
  },
  {
   "cell_type": "markdown",
   "id": "7ad55f5b-dc12-4809-88ac-3e135d45ae79",
   "metadata": {},
   "source": [
    "**Write a function to get the number of jobs for the Python technology.**"
   ]
  },
  {
   "cell_type": "code",
   "execution_count": 6,
   "id": "3dbdc89e-4b0e-43f6-96c8-5dedc5d491c1",
   "metadata": {},
   "outputs": [],
   "source": [
    "def get_number_of_jobs_T(technology):\n",
    "    r=requests.get(url)\n",
    "    dATA=r.json()\n",
    "    c=0\n",
    "    for i in dATA:\n",
    "        if technology in i.get( \"Key Skills\"):\n",
    "            c+=1\n",
    "    number_of_jobs=c\n",
    "    \n",
    "    return technology,number_of_jobs\n"
   ]
  },
  {
   "cell_type": "code",
   "execution_count": 7,
   "id": "6f13421e-1743-4da6-9597-d2f0a2c2bf11",
   "metadata": {},
   "outputs": [
    {
     "name": "stdout",
     "output_type": "stream",
     "text": [
      "('Python', 1173)\n"
     ]
    }
   ],
   "source": [
    "print(get_number_of_jobs_T('Python'))"
   ]
  },
  {
   "cell_type": "markdown",
   "id": "a1b08917-7798-4e67-b6a7-6a7baed269ee",
   "metadata": {},
   "source": [
    "**Write a function to find number of jobs in US for a location of your choice.**"
   ]
  },
  {
   "cell_type": "code",
   "execution_count": 8,
   "id": "b1fa87b4-fbd1-453d-8ecf-ab0ca29d8e46",
   "metadata": {},
   "outputs": [],
   "source": [
    "def get_number_of_jobs_L(location):\n",
    "    \n",
    "    r=requests.get(url)\n",
    "    dATA=r.json()\n",
    "    c=0\n",
    "    for i in dATA:\n",
    "        if location in i.get( \"Location\"):\n",
    "            c+=1\n",
    "    number_of_jobs=c\n",
    "    return location,number_of_jobs"
   ]
  },
  {
   "cell_type": "code",
   "execution_count": 9,
   "id": "6e96f1a5-58e8-41c1-b507-89964535262c",
   "metadata": {},
   "outputs": [
    {
     "data": {
      "text/plain": [
       "('Los Angeles', 640)"
      ]
     },
     "execution_count": 9,
     "metadata": {},
     "output_type": "execute_result"
    }
   ],
   "source": [
    "get_number_of_jobs_L('Los Angeles')"
   ]
  },
  {
   "cell_type": "code",
   "execution_count": 10,
   "id": "b53c9afb-1791-487c-b932-694a2fc057d4",
   "metadata": {},
   "outputs": [
    {
     "data": {
      "text/plain": [
       "['Washington DC',\n",
       " 'Detroit',\n",
       " 'San Francisco',\n",
       " 'Houston',\n",
       " 'Los Angeles',\n",
       " 'Seattle',\n",
       " 'Austin',\n",
       " 'Dallas',\n",
       " 'Philadelphia',\n",
       " 'New York',\n",
       " 'Boston',\n",
       " 'New Orleons',\n",
       " 'Baltimore']"
      ]
     },
     "execution_count": 10,
     "metadata": {},
     "output_type": "execute_result"
    }
   ],
   "source": [
    "loc=[]\n",
    "for i in dATA:\n",
    "    loc.append(i.get(\"Location\"))\n",
    "        \n",
    "City=list(set(loc))\n",
    "City"
   ]
  },
  {
   "cell_type": "code",
   "execution_count": 11,
   "id": "6e446ce7-9623-45ec-8d36-13ef854b2e72",
   "metadata": {},
   "outputs": [],
   "source": [
    "wb=Workbook()\n",
    "ws=wb.active"
   ]
  },
  {
   "cell_type": "code",
   "execution_count": 12,
   "id": "a844652f-5a3c-4992-97cd-88e79ff8ed9f",
   "metadata": {},
   "outputs": [],
   "source": [
    "ws.append(['Location Name', 'Number of Jobs Postings'])\n",
    "\n",
    "for loc in City:\n",
    "    ws.append([get_number_of_jobs_L(loc)[0], get_number_of_jobs_L(loc)[1]])"
   ]
  },
  {
   "cell_type": "markdown",
   "id": "25034782-0d36-4b7d-8611-a7645a3fcc95",
   "metadata": {},
   "source": [
    "**Considering we already know the list of different technologies as :\n",
    "technology=['C', 'C#', 'C++', 'Java', 'JavaScript', 'Python', 'Scala', 'Oracle', 'SQL Server', 'MySQL Server', 'PostgreSQL', 'MongoDB']**"
   ]
  },
  {
   "cell_type": "code",
   "execution_count": 14,
   "id": "24024a9b-173e-4e03-8f60-60a41faa81f1",
   "metadata": {},
   "outputs": [],
   "source": [
    "ws.append(['Technology', 'Number of Jobs Postings'])\n",
    "\n",
    "technology=['C', 'C#', 'C++', 'Java', 'JavaScript', 'Python', 'Scala', 'Oracle',\n",
    "'SQL Server', 'MySQL Server', 'PostgreSQL', 'MongoDB']\n",
    "for tech in technology:\n",
    "    ws.append([get_number_of_jobs_T(tech)[0], get_number_of_jobs_T(tech)[1]])\n",
    "    \n",
    "wb.save('job-posting.xlsx')"
   ]
  },
  {
   "cell_type": "code",
   "execution_count": null,
   "id": "b3dd65a4-7a97-4790-8930-f46893e710ce",
   "metadata": {},
   "outputs": [],
   "source": []
  }
 ],
 "metadata": {
  "kernelspec": {
   "display_name": "Python 3 (ipykernel)",
   "language": "python",
   "name": "python3"
  },
  "language_info": {
   "codemirror_mode": {
    "name": "ipython",
    "version": 3
   },
   "file_extension": ".py",
   "mimetype": "text/x-python",
   "name": "python",
   "nbconvert_exporter": "python",
   "pygments_lexer": "ipython3",
   "version": "3.12.2"
  }
 },
 "nbformat": 4,
 "nbformat_minor": 5
}
